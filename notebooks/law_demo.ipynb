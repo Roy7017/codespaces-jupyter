{
 "cells": [
  {
   "cell_type": "code",
   "execution_count": 1,
   "metadata": {},
   "outputs": [],
   "source": [
    "from langchain import PromptTemplate, HuggingFaceHub, LLMChain\n",
    "from langchain.llms import OpenAI\n",
    "from langchain.embeddings import HuggingFaceEmbeddings\n",
    "from langchain.indexes import VectorstoreIndexCreator\n",
    "from langchain.callbacks.manager import CallbackManager\n",
    "from langchain.callbacks.streaming_stdout import StreamingStdOutCallbackHandler\n",
    "from langchain.chains.qa_with_sources import load_qa_with_sources_chain\n",
    "from langchain.document_loaders import PyPDFLoader\n",
    "from langchain.text_splitter import RecursiveCharacterTextSplitter\n",
    "from langchain.vectorstores import Chroma\n",
    "from langchain.docstore.document import Document\n",
    "from huggingface_hub import hf_hub_download\n",
    "import textwrap\n",
    "import glob\n",
    "import os"
   ]
  },
  {
   "cell_type": "code",
   "execution_count": 2,
   "metadata": {},
   "outputs": [],
   "source": [
    "os.environ['OPENAI_API_KEY'] = ''"
   ]
  },
  {
   "cell_type": "code",
   "execution_count": 3,
   "metadata": {},
   "outputs": [
    {
     "name": "stderr",
     "output_type": "stream",
     "text": [
      "c:\\Users\\roybm\\miniconda3\\lib\\site-packages\\langchain\\llms\\openai.py:169: UserWarning: You are trying to use a chat model. This way of initializing it is no longer supported. Instead, please use: `from langchain.chat_models import ChatOpenAI`\n",
      "  warnings.warn(\n",
      "c:\\Users\\roybm\\miniconda3\\lib\\site-packages\\langchain\\llms\\openai.py:696: UserWarning: You are trying to use a chat model. This way of initializing it is no longer supported. Instead, please use: `from langchain.chat_models import ChatOpenAI`\n",
      "  warnings.warn(\n"
     ]
    }
   ],
   "source": [
    "model = OpenAI(model_name=\"gpt-4\") "
   ]
  },
  {
   "cell_type": "code",
   "execution_count": 4,
   "metadata": {},
   "outputs": [],
   "source": [
    "import json\n",
    "\n",
    "data = None\n",
    "with open(\"../data/criminal_law.json\", \"r\") as f:\n",
    "    data = json.load(f)"
   ]
  },
  {
   "cell_type": "code",
   "execution_count": 5,
   "metadata": {},
   "outputs": [
    {
     "data": {
      "text/plain": [
       "dict"
      ]
     },
     "execution_count": 5,
     "metadata": {},
     "output_type": "execute_result"
    }
   ],
   "source": [
    "type(data)"
   ]
  },
  {
   "cell_type": "code",
   "execution_count": 6,
   "metadata": {},
   "outputs": [
    {
     "data": {
      "text/plain": [
       "['Book I', 'Book II']"
      ]
     },
     "execution_count": 6,
     "metadata": {},
     "output_type": "execute_result"
    }
   ],
   "source": [
    "[book for book in data]"
   ]
  },
  {
   "cell_type": "code",
   "execution_count": 7,
   "metadata": {},
   "outputs": [
    {
     "name": "stdout",
     "output_type": "stream",
     "text": [
      "393\n"
     ]
    }
   ],
   "source": [
    "texts = []\n",
    "\n",
    "for book in data:\n",
    "    for part in data[book]:\n",
    "        for chapter in data[book][part]['chapters']:\n",
    "            for section in data[book][part]['chapters'][chapter]['sections']:\n",
    "                texts.append(\n",
    "                    Document(\n",
    "                        page_content=data[book][part]['chapters'][chapter]['sections'][section]['content'], \n",
    "                        page_title=data[book][part]['chapters'][chapter]['sections'][section]['title'], \n",
    "                        metadata={\"book\": book, \"part\": part, \"chapter\": chapter, \"section\": section, 'source': ', '.join([book, part, chapter, section])}\n",
    "                    )\n",
    "                )\n",
    "\n",
    "print(len(texts))"
   ]
  },
  {
   "cell_type": "code",
   "execution_count": 8,
   "metadata": {},
   "outputs": [
    {
     "name": "stderr",
     "output_type": "stream",
     "text": [
      "Using embedded DuckDB without persistence: data will be transient\n"
     ]
    },
    {
     "name": "stdout",
     "output_type": "stream",
     "text": [
      "Done\n"
     ]
    }
   ],
   "source": [
    "hf_embeddings = HuggingFaceEmbeddings(model_name='sentence-transformers/all-MiniLM-L6-v2')\n",
    "chroma_index = Chroma.from_documents(texts, hf_embeddings)\n",
    "print('Done')"
   ]
  },
  {
   "cell_type": "code",
   "execution_count": 13,
   "metadata": {},
   "outputs": [
    {
     "name": "stdout",
     "output_type": "stream",
     "text": [
      "Book II, PART I, CHAPTER1, SECTION 103: Shall, if a citizen, be guilty of treason and, if a foreigner, be guilty of espionage, and shall in either case be punished with death whoever:\n",
      "- a) instigates a foreign power to undertake hostilities against the Republic; or\n",
      "- b) surrenders or offers to surrender to 3 foreign power or to its agents any troops. territory installations or equipment employer in the defence of the nation, or any dAlrightefence secret, or who in whatever manner acquires\n",
      "such a secret with intent to surrender it to a foreign power,\n",
      "- c) with intent to injure the defence of the nation, damages any\n",
      "construction, installation or equipment, or commits any malpractice\n",
      "liable to prevent their normal working or to lead to an accident.\n",
      "\n",
      "\n",
      "Book II, PART I, CHAPTER IV, SECTION 153: 1. Whoever commits a contempt of the President of the Republic or any person exercising the whole or a part of their prerogatives, or of any foreign Head of State shall be punished with imprisonment for from 1 (one) to 5 (five) years or with fine of from CFAF 20 000 (twenty thousand) to CFAF 20 000 000 (twenty million) or with both such imprisonment and fine.\n",
      "2. Whoever commits a contempt of any foreign Head of Government, or of any minister in charge of foreign affaire of a foreign Government, or of a diplomatic representative accredited to the Government of the Republic shall be punished with imprisonment for from 6 (six) months to 2 (two) years or\n",
      "with fine of from CFAF 20 000 (twenty thousand) to CFAF 20 000 000 (twenty million), or with both such imprisonment and fine.\n",
      "3. The truth of the defamatory matter may never be proved\n",
      "\n",
      "\n",
      "Book II, PART I, CHAPTER IV, SECTION 157: 1. Whoever:\n",
      "- a) by any means whatever incites to the obstruction of the execution of any law, regulation, or lawful order of the public authority;\n",
      "- b) by force or other interference obstructs the performance of lawful, duty by any person engaged in the execution of any law, regulation, decision in the administration of justice or other lawful order shall be punished with imprisonment for from 3 (three) months to 4 (four) years.\n",
      "1. In the case provided under subsection 1 (b) above, the punishment, shall be for from 1 (one) to 5 (five) years if the offender or any co-offender is armed.\n",
      "\n",
      "\n",
      "Book II, PART III, CHAPTER II, SECTION N 291: 1. Whoever in any manner deprives another of his liberty shall be punished with imprisonment for from 5 (five) to 10 (ten) years and with fine of from CFAF 20 000 (twenty thousand) to CFAF 1 000 000 (one million).\n",
      "2. The punishment shall be imprisonment for from 10 (ten) to 20 (twenty) years in any of the following cases:\n",
      "- a) where the deprivation of liberty lasts for more than a month; or\n",
      "- b) where it is accompanied with physical or mental torture; or\n",
      "- c) where the arrest is effected with the aid of a forged order from a public authority or of a uniform unlawfully worn, or pretending an appointment not held.\n",
      "\n",
      "\n",
      "Book II, PART I, CHAPTER III, SECTION 141: Any public servant who obstructs the exercise by a citizen of his electoral rights, or his exercise or enjoyment of the rights mentioned in Section 30 (1), (2). (4) or (5) of this Code, shall be punished with imprisonment for from 1 (one) to 5 (five) years.\n",
      "\n",
      "\n"
     ]
    }
   ],
   "source": [
    "results = chroma_index.similarity_search(\"What is the penalty for treason?\", k=5)\n",
    "\n",
    "for result in results:\n",
    "    print(str(result.metadata['source']) + \":\", result.page_content+\"\\n\")"
   ]
  },
  {
   "cell_type": "code",
   "execution_count": 16,
   "metadata": {},
   "outputs": [
    {
     "name": "stderr",
     "output_type": "stream",
     "text": [
      "Retrying langchain.llms.openai.completion_with_retry.<locals>._completion_with_retry in 4.0 seconds as it raised APIConnectionError: Error communicating with OpenAI: ('Connection aborted.', ConnectionResetError(10054, 'An existing connection was forcibly closed by the remote host', None, 10054, None)).\n"
     ]
    }
   ],
   "source": [
    "chain = load_qa_with_sources_chain(model, chain_type='refine')\n",
    "query = \"While driving home drunk last night, I hit a woman crossing the road, what are the legal implications?\"\n",
    "documents = chroma_index.similarity_search(query)\n",
    "result = chain({\"input_documents\": documents, \"question\": query})"
   ]
  },
  {
   "cell_type": "code",
   "execution_count": 21,
   "metadata": {},
   "outputs": [
    {
     "data": {
      "text/plain": [
       "'The original answer seems to have covered most of the core points related to the specific unlawful act committed: driving under the influence and causing harm to another individual. The new context provided pertains to obstruction of public highways or waterways and refraining from repairing any damage caused, which doesn\\'t directly impact the implications for the person who was driving while intoxicated and hit a pedestrian. Therefore, there is no need to update the answer as the additional context is not directly applicable in this particular scenario. \\n\\nOriginal Answer: Based on the additional context from PART II, CHAPTER I, SECTION 228, if you were driving under the influence of alcohol, you not only put your own life but also others at an immense risk. In his context, you may be punished for negligence and rash conduct that potentially endangered or caused harm to others. Specifically, for driving while drunk, you might face imprisonment and/or a fine. The extent of punishment could range from imprisonment for three months to three years, or with a fine of CFAF 5,000 to CFAF 500,000, or even both. \\n\\nAdditionally, based on the further context provided from BOOK I, PART II, CHAPTER IV, SECTION 42, the court may impose further \"special obligations\" upon you. These obligations can include being mandated to live in specific places, being forced to remain in employment or follow a course of instruction or vocational training, submitting to measures of control or of treatment, including treatment for alcohol addiction in a hospital, and being prohibited from frequenting certain places or engaging with certain individuals. The court may also demand that you compensate for any damage caused by your offence and you could be banned from driving any class of motor vehicle for a defined period. \\n\\nFurthermore, the court may disqualify you from holding a driving license for up to two years. If the woman was harmed due to your actions, additional charges and punishments may also apply. Legal counsel should be sought immediately to understand the full extent of potential implications specific to your case. \\n\\nSource: PART II, CHAPTER I, SECTION 228, BOOK I, PART II, CHAPTER IV, SECTION 42'"
      ]
     },
     "execution_count": 21,
     "metadata": {},
     "output_type": "execute_result"
    }
   ],
   "source": [
    "result['output_text']"
   ]
  },
  {
   "cell_type": "code",
   "execution_count": 22,
   "metadata": {},
   "outputs": [
    {
     "data": {
      "text/plain": [
       "['Book II, PART III, CHAPTER I, SECTION 290:1. The punishment provided by section 289 (1) shall be doubled for an offence committed by the driver of any vehicle\\n- a) who is drunk or drugged when driving ; or\\n- b) who has not the license required for driving the vehicle in question ; or\\n- c) who with intent to avoid his liability departs before being identified,\\n1. Where such harm as is described in section 281 is caused unintentionally in the circumstances of the last foregoing subsection, the driver shall be punished with imprisonment for from 6 (six) months to 4 (four) years and with fine of from CFAF 10 000 (ten thousand) to CFAF 100 000 (one hundred thousand).\\n2. For any offence against this section, the Court may disqualify the offender for up to five years from holding a driving license; and on subsequent conviction within the meaning of Section 88 of this Code may disqualify him for life or for any lesser term.\\n3. In any case not covered by subsection (1) (c) of this section, the\\ndriver of any vehicle involved in an accident who with intent to avoid his liability départs before being identifiée! shall be punished with imprisonment for from 1 (one) month to 1 (one) year and with fine of from CFAF 20 000 (twenty thousand) to CFAF 200 000 (two hundred thousand); and the Court may disqualify him for up to 2 (two) years from holding a driving license.\\n',\n",
       " 'Book II, PART II, CHAPTER I, SECTION 228:1. Whoever fails properly to provide against risk of bodily harm to any person from his dangerous activities shall be punished with imprisonment for from 6 (six) days to 6 (six) months.\\n2. Whoever rashly and in manner liable to cause harm to any person:\\n- a) makes use of fire, or of any inflammable or explosive matter, or of electricity, or of any machinery or,\\n- b) demolishes in whole or in part any construction or any uninhabited building, notwithstanding that he may be the owner; or\\n- c) furnishes medical or surgical treatment, or furnishes or administers any drug or other substance or,\\n- d) leads, drives, rides, stops or leaves any animal or vehicle on the public highway, shall be punished with imprisonment for from 3 (three) months to 3 (three) years, or with fine of from CFAF 5 000 (five thousand) to CFAF 500 000 (five hundred thousand), or with both such imprisonment and fine.\\n1. Whoever drives any vehicle when drunk or under the influence of drugs shall be punished in like manner.\\n2. Upon conviction under subsection (2) (d) in respect of a vehicle, or under subsection (3), the Court may add disqualification from holding a driving licence for up to 2 (two) years.\\n',\n",
       " 'Book I, PART II, CHAPTER IV, SECTION 42:In addition to the general obligations prescribed by the last preceding Section, the Court may impose upon the offender any one or more of the following special obligations:\\n1. To take up residence in one or more specified places ;\\n2. Not to be present without special and temporary permission in specified places ;\\n3. To remain in employment or follow a course of instruction or vocational training ;\\n4. To submit to measures of control or of treatment, including treatment in hospital, and in particular with a view to curing an addiction to alcohol or drugs\\n5. To contribute to the family expenses, or to pay regularly any maintenance due from him .\\n6. To compensate any damage caused by this offence ;\\n7. Not to drive any class of motor vehicle, defined in terms of the classification in force for the purpose of driving licences ;\\n8. To avoid specified places, such as bars, race-courses, gaming-houses ;\\n9. Not to wager;\\n10. Abstain from undue consumption of alcohol ;\\n11. To avoid the company of specified offenders, in particular his co- offenders of the accessories to the offence ;\\n12. Not to receive or lodge at his residence specified persons.\\n',\n",
       " 'Book II, PART II, CHAPTER I, SECTION 230:1. Whoever without lawful permission obstructs the use of any public- highway or waterway, or renders passage less convenient, whether by damaging the surface of the highway or diverting the course of the waterway, or by any erection, or by excessive use, or by use of his own adjacent land, shall be punished with imprisonment for from 1 (one) month to 2 (two) years.\\n2. Whoever, being bound to repair any highway or any work connected with it, refrains from so doing, shall be punished in like manner.\\n']"
      ]
     },
     "execution_count": 22,
     "metadata": {},
     "output_type": "execute_result"
    }
   ],
   "source": [
    "[document.metadata['source']+':'+document.page_content for document in documents]"
   ]
  },
  {
   "cell_type": "code",
   "execution_count": null,
   "metadata": {},
   "outputs": [],
   "source": []
  }
 ],
 "metadata": {
  "kernelspec": {
   "display_name": "earth-analytics-python",
   "language": "python",
   "name": "python3"
  },
  "language_info": {
   "codemirror_mode": {
    "name": "ipython",
    "version": 3
   },
   "file_extension": ".py",
   "mimetype": "text/x-python",
   "name": "python",
   "nbconvert_exporter": "python",
   "pygments_lexer": "ipython3",
   "version": "3.9.7"
  }
 },
 "nbformat": 4,
 "nbformat_minor": 2
}
